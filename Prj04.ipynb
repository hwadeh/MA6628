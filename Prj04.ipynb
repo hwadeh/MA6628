{
 "cells": [
  {
   "cell_type": "markdown",
   "metadata": {
    "collapsed": false
   },
   "source": [
    "# Prj04\n",
    "Consider the following data sets:\n",
    "\n",
    "- Today: Sep 27, 2018\n",
    "\n",
    "- Spot price: 290.68\n",
    "\n",
    "- Maturity: Dec 31, 2018\n",
    "\n",
    "- Strike: 288\n",
    "\n",
    "- rate: 0.02 (from https://www.treasury.gov/resource-center/data-chart-center/interest-rates/Pages/TextView.aspx?data=yield)\n",
    "\n",
    "- Market call price: 9.23\n",
    "\n",
    "### Todo\n",
    "\n",
    "1.If the volatility is $30\\%$, what is the difference between BSM call price and market call price?\n",
    "\n",
    "2.Compute the implied volatility."
   ]
  },
  {
   "cell_type": "code",
   "execution_count": 1,
   "metadata": {
    "collapsed": false
   },
   "outputs": [
   ],
   "source": [
    "import numpy as np\n",
    "import scipy.stats as ss\n",
    "import time\n",
    "import math\n",
    "from scipy import optimize"
   ]
  },
  {
   "cell_type": "code",
   "execution_count": 2,
   "metadata": {
    "collapsed": false
   },
   "outputs": [
   ],
   "source": [
    "T0 = np.datetime64('2018-09-27')\n",
    "Tm = np.datetime64('2018-12-31')\n",
    "T = (Tm - T0)/np.timedelta64(1,'D')/365\n",
    "t = 0\n",
    "r = 0.02\n",
    "St = 290.68\n",
    "K = 288\n",
    "sigma = 0.3"
   ]
  },
  {
   "cell_type": "code",
   "execution_count": 3,
   "metadata": {
    "collapsed": false
   },
   "outputs": [
   ],
   "source": [
    "def d1f(St, K, t, T, r, sigma):\n",
    "    d1 = (math.log(St / K) + (r + 0.5 * sigma ** 2)\n",
    "          * (T - t)) / (sigma * math.sqrt(T - t))\n",
    "    return d1"
   ]
  },
  {
   "cell_type": "code",
   "execution_count": 4,
   "metadata": {
    "collapsed": false
   },
   "outputs": [
   ],
   "source": [
    "def BSM_call_value(St, K, t, T, r, sigma):\n",
    "    d1 = d1f(St, K, t, T, r, sigma)\n",
    "    d2 = d1 - sigma * math.sqrt(T - t)\n",
    "    call_value = St * ss.norm.cdf(d1) - math.exp(-r * (T - t)) * K * ss.norm.cdf(d2)\n",
    "    return call_value"
   ]
  },
  {
   "cell_type": "code",
   "execution_count": 8,
   "metadata": {
    "collapsed": false
   },
   "outputs": [
    {
     "name": "stdout",
     "output_type": "stream",
     "text": [
      "The difference between BSM call price and market call price is 10.539937820552115\n"
     ]
    }
   ],
   "source": [
    "#1\n",
    "call = BSM_call_value(St, K, t, T, r, sigma)\n",
    "Market_price = 9.23\n",
    "ans = call - Market_price\n",
    "print( 'The difference between BSM call price and market call price is', ans)"
   ]
  },
  {
   "cell_type": "code",
   "execution_count": 6,
   "metadata": {
    "collapsed": false
   },
   "outputs": [
    {
     "name": "stdout",
     "output_type": "stream",
     "text": [
      "Optimization terminated successfully.\n",
      "         Current function value: 0.000000\n",
      "         Iterations: 15\n",
      "         Function evaluations: 30\n",
      "Implied volatility is 0.11824218749999948\n"
     ]
    }
   ],
   "source": [
    "#2\n",
    "def IVolBsm(St, K, T, r, P0):\n",
    "    InitVol = .3\n",
    "    error = lambda sigma: (BSM_call_value(St, K, t, T, r, sigma) - P0)**2\n",
    "    opt = optimize.fmin(error, InitVol);\n",
    "    return opt[0]\n",
    "\n",
    "if __name__ == \"__main__\":\n",
    "    print('Implied volatility is', IVolBsm(St, K, T, r, Market_price))"
   ]
  },
  {
   "cell_type": "code",
   "execution_count": 0,
   "metadata": {
    "collapsed": false
   },
   "outputs": [
   ],
   "source": [
   ]
  }
 ],
 "metadata": {
  "kernelspec": {
   "display_name": "Python 3 (Anaconda 5)",
   "language": "python",
   "name": "anaconda5"
  }
 },
 "nbformat": 4,
 "nbformat_minor": 0
}